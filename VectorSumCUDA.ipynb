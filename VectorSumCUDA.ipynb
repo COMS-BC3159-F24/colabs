{
  "nbformat": 4,
  "nbformat_minor": 0,
  "metadata": {
    "colab": {
      "provenance": [],
      "gpuType": "T4",
      "include_colab_link": true
    },
    "kernelspec": {
      "name": "python3",
      "display_name": "Python 3"
    },
    "language_info": {
      "name": "python"
    },
    "accelerator": "GPU"
  },
  "cells": [
    {
      "cell_type": "markdown",
      "metadata": {
        "id": "view-in-github",
        "colab_type": "text"
      },
      "source": [
        "<a href=\"https://colab.research.google.com/github/COMS-BC3159-F24/colabs/blob/main/VectorSumCUDA.ipynb\" target=\"_parent\"><img src=\"https://colab.research.google.com/assets/colab-badge.svg\" alt=\"Open In Colab\"/></a>"
      ]
    },
    {
      "cell_type": "markdown",
      "source": [
        "## Vector Sum in CUDA\n",
        "First lets install some pre-requistes and make sure the runtime is correct!"
      ],
      "metadata": {
        "id": "rh7Rn4344iQv"
      }
    },
    {
      "cell_type": "code",
      "source": [
        "# make sure CUDA is installed\n",
        "!nvcc --version\n",
        "\n",
        "# make sure you have a GPU runtime (if this fails go to runtime -> change runtime type)\n",
        "!nvidia-smi\n",
        "\n",
        "# CUDA in Jupyter helpers\n",
        "!pip install nvcc4jupyter\n",
        "%load_ext nvcc4jupyter\n",
        "# to learn about how to do more fancy things with CUDA using this API see:\n",
        "# https://nvcc4jupyter.readthedocs.io/en/latest/index.html"
      ],
      "metadata": {
        "colab": {
          "base_uri": "https://localhost:8080/"
        },
        "id": "ywjyGeyR4e2P",
        "outputId": "f2eede33-951e-4f71-84db-e0f0175601cf"
      },
      "execution_count": null,
      "outputs": [
        {
          "output_type": "stream",
          "name": "stdout",
          "text": [
            "nvcc: NVIDIA (R) Cuda compiler driver\n",
            "Copyright (c) 2005-2023 NVIDIA Corporation\n",
            "Built on Tue_Aug_15_22:02:13_PDT_2023\n",
            "Cuda compilation tools, release 12.2, V12.2.140\n",
            "Build cuda_12.2.r12.2/compiler.33191640_0\n",
            "Wed Sep  4 15:55:32 2024       \n",
            "+---------------------------------------------------------------------------------------+\n",
            "| NVIDIA-SMI 535.104.05             Driver Version: 535.104.05   CUDA Version: 12.2     |\n",
            "|-----------------------------------------+----------------------+----------------------+\n",
            "| GPU  Name                 Persistence-M | Bus-Id        Disp.A | Volatile Uncorr. ECC |\n",
            "| Fan  Temp   Perf          Pwr:Usage/Cap |         Memory-Usage | GPU-Util  Compute M. |\n",
            "|                                         |                      |               MIG M. |\n",
            "|=========================================+======================+======================|\n",
            "|   0  Tesla T4                       Off | 00000000:00:04.0 Off |                    0 |\n",
            "| N/A   42C    P8               9W /  70W |      0MiB / 15360MiB |      0%      Default |\n",
            "|                                         |                      |                  N/A |\n",
            "+-----------------------------------------+----------------------+----------------------+\n",
            "                                                                                         \n",
            "+---------------------------------------------------------------------------------------+\n",
            "| Processes:                                                                            |\n",
            "|  GPU   GI   CI        PID   Type   Process name                            GPU Memory |\n",
            "|        ID   ID                                                             Usage      |\n",
            "|=======================================================================================|\n",
            "|  No running processes found                                                           |\n",
            "+---------------------------------------------------------------------------------------+\n",
            "Collecting nvcc4jupyter\n",
            "  Downloading nvcc4jupyter-1.2.1-py3-none-any.whl.metadata (5.1 kB)\n",
            "Downloading nvcc4jupyter-1.2.1-py3-none-any.whl (10 kB)\n",
            "Installing collected packages: nvcc4jupyter\n",
            "Successfully installed nvcc4jupyter-1.2.1\n",
            "Detected platform \"Colab\". Running its setup...\n",
            "Source files will be saved in \"/tmp/tmpcvutvi1h\".\n"
          ]
        }
      ]
    },
    {
      "cell_type": "markdown",
      "source": [
        "Then our vector sum function!"
      ],
      "metadata": {
        "id": "_fbwTlFG5AqY"
      }
    },
    {
      "cell_type": "code",
      "execution_count": null,
      "metadata": {
        "id": "zAVrYEKZ4ELv"
      },
      "outputs": [],
      "source": [
        "# some magic to make things work in Jupyter\n",
        "%%cuda_group_save -n sum.h -g default\n",
        "\n",
        "// vector sum wrapped in a function call\n",
        "__global__\n",
        "void vectorSum_kernel(float *d_data, const int c_dataLength){\n",
        "  int levelSize = c_dataLength;\n",
        "  while(levelSize > 1){\n",
        "    for(int i= threadIdx.x; i<levelSize/2; i+= blockDim.x){\n",
        "        d_data[i] += d_data[i+levelSize/2];\n",
        "    }\n",
        "    if (levelSize % 2){d_data[0] += d_data[levelSize-1];}\n",
        "    levelSize /= 2;\n",
        "    __syncthreads();\n",
        "  }\n",
        "}"
      ]
    },
    {
      "cell_type": "markdown",
      "source": [
        "Then wrapper code to launch and run it!"
      ],
      "metadata": {
        "id": "lSk123p95LlR"
      }
    },
    {
      "cell_type": "code",
      "source": [
        "%%cuda_group_save -n run.h -g default\n",
        "#include \"sum.h\"\n",
        "\n",
        "float vectorSum(float *h_data, const int c_dataLength){\n",
        "    // move data to GPU\n",
        "    float *d_data; cudaMalloc(&d_data,c_dataLength*sizeof(float));\n",
        "    cudaMemcpy(d_data,h_data,c_dataLength*sizeof(float),cudaMemcpyHostToDevice);\n",
        "    // run the kernel\n",
        "    vectorSum_kernel<<<1,64,0,0>>>(d_data,c_dataLength);\n",
        "    // move data back\n",
        "    cudaDeviceSynchronize();\n",
        "    float sum; cudaMemcpy(&sum,d_data,sizeof(float),cudaMemcpyDeviceToHost);\n",
        "    return sum;\n",
        "}\n",
        "\n",
        "float serialSum(float *h_data, const int c_dataLength){\n",
        "    float sum = 0.0;\n",
        "    for(unsigned i = 0; i < c_dataLength; i++){\n",
        "      sum += h_data[i];\n",
        "    }\n",
        "    return sum;\n",
        "}\n",
        "\n",
        "void runTest(float *h_data, const int c_dataLength){\n",
        "    printf(\"--------------------------------------------------\\n\");\n",
        "    // print the CPU answer\n",
        "    float sumCPU = serialSum(h_data, c_dataLength);\n",
        "    printf(\"CPU Sum = [%f] for Input of Length [%d]\\n\", sumCPU, c_dataLength);\n",
        "\n",
        "    // run the GPU code\n",
        "    float sumGPU = vectorSum(h_data,c_dataLength);\n",
        "    printf(\"GPU Sum = [%f] for Input of Length [%d]\\n\", sumGPU, c_dataLength);\n",
        "}"
      ],
      "metadata": {
        "id": "N6FhT2aI5I5D"
      },
      "execution_count": null,
      "outputs": []
    },
    {
      "cell_type": "markdown",
      "source": [
        "Now lets run some tests!"
      ],
      "metadata": {
        "id": "s1Wuy5Rk5jWk"
      }
    },
    {
      "cell_type": "code",
      "source": [
        "%%cuda_group_save -n run.cu -g default\n",
        "\n",
        "#include <cuda_runtime.h>\n",
        "#include <stdlib.h>\n",
        "#include <stdio.h>\n",
        "#include <time.h>\n",
        "#include \"run.h\"\n",
        "\n",
        "const int max_size = 16;\n",
        "\n",
        "int main() {\n",
        "  // Seed the random number generator\n",
        "  srand(time(NULL));\n",
        "\n",
        "  // generate random arrays and test them\n",
        "  for (unsigned i = 0; i < 10; i++){\n",
        "      // Allocate memory for the array\n",
        "      unsigned N = rand() % max_size + 1;\n",
        "      float *data = (float *)malloc(N * sizeof(float));\n",
        "\n",
        "      // Fill the array with random floating-point numbers\n",
        "      for (int i = 0; i < N; i++) {\n",
        "          data[i] = (float)rand() / RAND_MAX;  // Generates a random float between 0 and 1\n",
        "      }\n",
        "\n",
        "      runTest(data,N);\n",
        "  }\n",
        "}"
      ],
      "metadata": {
        "id": "Za6K-OJ35kLm"
      },
      "execution_count": null,
      "outputs": []
    },
    {
      "cell_type": "code",
      "source": [
        "%cuda_group_run -g default"
      ],
      "metadata": {
        "colab": {
          "base_uri": "https://localhost:8080/"
        },
        "id": "8bShtNmaFwbV",
        "outputId": "83e0e098-25c0-4aa1-9c9d-25278336f708"
      },
      "execution_count": null,
      "outputs": [
        {
          "output_type": "stream",
          "name": "stdout",
          "text": [
            "--------------------------------------------------\n",
            "CPU Sum = [0.573053] for Input of Length [2]\n",
            "GPU Sum = [0.573053] for Input of Length [2]\n",
            "--------------------------------------------------\n",
            "CPU Sum = [3.161889] for Input of Length [7]\n",
            "GPU Sum = [2.792033] for Input of Length [7]\n",
            "--------------------------------------------------\n",
            "CPU Sum = [7.852239] for Input of Length [12]\n",
            "GPU Sum = [8.123331] for Input of Length [12]\n",
            "--------------------------------------------------\n",
            "CPU Sum = [5.275385] for Input of Length [11]\n",
            "GPU Sum = [6.996038] for Input of Length [11]\n",
            "--------------------------------------------------\n",
            "CPU Sum = [0.921286] for Input of Length [2]\n",
            "GPU Sum = [0.921286] for Input of Length [2]\n",
            "--------------------------------------------------\n",
            "CPU Sum = [3.339063] for Input of Length [9]\n",
            "GPU Sum = [3.310093] for Input of Length [9]\n",
            "--------------------------------------------------\n",
            "CPU Sum = [2.929603] for Input of Length [7]\n",
            "GPU Sum = [3.417165] for Input of Length [7]\n",
            "--------------------------------------------------\n",
            "CPU Sum = [7.825055] for Input of Length [15]\n",
            "GPU Sum = [9.026789] for Input of Length [15]\n",
            "--------------------------------------------------\n",
            "CPU Sum = [2.761062] for Input of Length [4]\n",
            "GPU Sum = [2.761062] for Input of Length [4]\n",
            "--------------------------------------------------\n",
            "CPU Sum = [5.445850] for Input of Length [8]\n",
            "GPU Sum = [5.445850] for Input of Length [8]\n",
            "\n"
          ]
        }
      ]
    },
    {
      "cell_type": "markdown",
      "source": [
        "Did the results surprise you? Do you remember from class what went wrong?"
      ],
      "metadata": {
        "id": "1LJNurtetNJo"
      }
    },
    {
      "cell_type": "markdown",
      "source": [
        "Let's implement the fix from the lecture slides!"
      ],
      "metadata": {
        "id": "jWygBlbjTp8b"
      }
    },
    {
      "cell_type": "code",
      "source": [
        "# overwrite the old sum kernel!\n",
        "%%cuda_group_save -n sum.h -g default\n",
        "\n",
        "// vector sum wrapped in a function call\n",
        "__global__\n",
        "void vectorSum_kernel(float *d_data, const int c_dataLength){\n",
        "  int levelSize = c_dataLength;\n",
        "  while(levelSize > 1){\n",
        "    for(int i= threadIdx.x; i<levelSize/2; i+= blockDim.x){\n",
        "        d_data[i] += d_data[i+levelSize/2];\n",
        "    }\n",
        "    if (levelSize % 2 && threadIdx.x == 0){d_data[0] += d_data[levelSize-1];}\n",
        "    levelSize /= 2;\n",
        "    __syncthreads();\n",
        "  }\n",
        "}"
      ],
      "metadata": {
        "id": "XNdlhN2hF9Ot"
      },
      "execution_count": null,
      "outputs": []
    },
    {
      "cell_type": "code",
      "source": [
        "%cuda_group_run -g default"
      ],
      "metadata": {
        "colab": {
          "base_uri": "https://localhost:8080/"
        },
        "id": "f2ute9TNtWYf",
        "outputId": "79318437-7778-4a8b-f660-eb2e5902cfd0"
      },
      "execution_count": null,
      "outputs": [
        {
          "output_type": "stream",
          "name": "stdout",
          "text": [
            "--------------------------------------------------\n",
            "CPU Sum = [6.622480] for Input of Length [11]\n",
            "GPU Sum = [6.622480] for Input of Length [11]\n",
            "--------------------------------------------------\n",
            "CPU Sum = [1.730114] for Input of Length [3]\n",
            "GPU Sum = [1.730114] for Input of Length [3]\n",
            "--------------------------------------------------\n",
            "CPU Sum = [8.237677] for Input of Length [14]\n",
            "GPU Sum = [8.237677] for Input of Length [14]\n",
            "--------------------------------------------------\n",
            "CPU Sum = [3.333950] for Input of Length [6]\n",
            "GPU Sum = [3.333950] for Input of Length [6]\n",
            "--------------------------------------------------\n",
            "CPU Sum = [2.388439] for Input of Length [4]\n",
            "GPU Sum = [2.388439] for Input of Length [4]\n",
            "--------------------------------------------------\n",
            "CPU Sum = [5.752578] for Input of Length [14]\n",
            "GPU Sum = [5.752579] for Input of Length [14]\n",
            "--------------------------------------------------\n",
            "CPU Sum = [1.716892] for Input of Length [5]\n",
            "GPU Sum = [1.716892] for Input of Length [5]\n",
            "--------------------------------------------------\n",
            "CPU Sum = [0.526829] for Input of Length [1]\n",
            "GPU Sum = [0.526829] for Input of Length [1]\n",
            "--------------------------------------------------\n",
            "CPU Sum = [4.053869] for Input of Length [10]\n",
            "GPU Sum = [4.053869] for Input of Length [10]\n",
            "--------------------------------------------------\n",
            "CPU Sum = [6.795152] for Input of Length [13]\n",
            "GPU Sum = [6.795152] for Input of Length [13]\n",
            "\n"
          ]
        }
      ]
    },
    {
      "cell_type": "markdown",
      "source": [
        "## Vector Sum 2.0\n",
        "Now lets explore the alternative design from lecture! We'll need a few new functions to account for the additional input into the function, but can leave some the same."
      ],
      "metadata": {
        "id": "6HJ5Rf4MTzg5"
      }
    },
    {
      "cell_type": "code",
      "source": [
        "%%cuda_group_save -n sum2.h -g default2\n",
        "\n",
        "// vector sum wrapped in a function call\n",
        "__global__\n",
        "void vectorSum_kernel2(float *d_data, float *d_sum, const int c_dataLength){\n",
        "  for(int i = threadIdx.x; i < c_dataLength; i += blockDim.x){\n",
        "        *d_sum += d_data[i];\n",
        "  }\n",
        "}"
      ],
      "metadata": {
        "id": "XD0tDKMTT4EE"
      },
      "execution_count": null,
      "outputs": []
    },
    {
      "cell_type": "code",
      "source": [
        "%%cuda_group_save -n run2.h -g default2\n",
        "#include \"sum2.h\"\n",
        "\n",
        "float vectorSum2(float *h_data, const int c_dataLength){\n",
        "    // move data to GPU\n",
        "    float *d_data; cudaMalloc(&d_data,c_dataLength*sizeof(float));\n",
        "    float *d_sum; cudaMalloc(&d_sum,sizeof(float));\n",
        "    cudaMemcpy(d_data,h_data,c_dataLength*sizeof(float),cudaMemcpyHostToDevice);\n",
        "    // run the kernel\n",
        "    vectorSum_kernel2<<<1,64,0,0>>>(d_data,d_sum,c_dataLength);\n",
        "    // move data back\n",
        "    cudaDeviceSynchronize();\n",
        "    float sum; cudaMemcpy(&sum,d_sum,sizeof(float),cudaMemcpyDeviceToHost);\n",
        "    return sum;\n",
        "}\n",
        "\n",
        "float serialSum(float *h_data, const int c_dataLength){\n",
        "    float sum = 0.0;\n",
        "    for(unsigned i = 0; i < c_dataLength; i++){\n",
        "      sum += h_data[i];\n",
        "    }\n",
        "    return sum;\n",
        "}\n",
        "\n",
        "void runTest2(float *h_data, const int c_dataLength){\n",
        "    printf(\"--------------------------------------------------\\n\");\n",
        "    // print the CPU answer\n",
        "    float sumCPU = serialSum(h_data, c_dataLength);\n",
        "    printf(\"CPU Sum = [%f] for Input of Length [%d]\\n\", sumCPU, c_dataLength);\n",
        "\n",
        "    // run the GPU code\n",
        "    float sumGPU = vectorSum2(h_data,c_dataLength);\n",
        "    printf(\"GPU Sum = [%f] for Input of Length [%d]\\n\", sumGPU, c_dataLength);\n",
        "}"
      ],
      "metadata": {
        "id": "53k7eXcFvnNf"
      },
      "execution_count": null,
      "outputs": []
    },
    {
      "cell_type": "code",
      "source": [
        "%%cuda_group_save -n run2.cu -g default2\n",
        "\n",
        "#include <cuda_runtime.h>\n",
        "#include <stdlib.h>\n",
        "#include <stdio.h>\n",
        "#include <time.h>\n",
        "#include \"run2.h\"\n",
        "\n",
        "const int max_size = 16;\n",
        "\n",
        "int main() {\n",
        "  // Seed the random number generator\n",
        "  srand(time(NULL));\n",
        "\n",
        "  // generate random arrays and test them\n",
        "  for (unsigned i = 0; i < 10; i++){\n",
        "      // Allocate memory for the array\n",
        "      unsigned N = rand() % max_size + 1;\n",
        "      float *data = (float *)malloc(N * sizeof(float));\n",
        "\n",
        "      // Fill the array with random floating-point numbers\n",
        "      for (int i = 0; i < N; i++) {\n",
        "          data[i] = (float)rand() / RAND_MAX;  // Generates a random float between 0 and 1\n",
        "      }\n",
        "\n",
        "      runTest2(data,N);\n",
        "  }\n",
        "}"
      ],
      "metadata": {
        "id": "h4ESdvADUVJF"
      },
      "execution_count": null,
      "outputs": []
    },
    {
      "cell_type": "code",
      "source": [
        "%cuda_group_run -g default2"
      ],
      "metadata": {
        "id": "E370z4rqU36Z",
        "colab": {
          "base_uri": "https://localhost:8080/"
        },
        "outputId": "707e37b9-2b44-490c-cbd9-e984e6e1f623"
      },
      "execution_count": null,
      "outputs": [
        {
          "output_type": "stream",
          "name": "stdout",
          "text": [
            "--------------------------------------------------\n",
            "CPU Sum = [1.990526] for Input of Length [3]\n",
            "GPU Sum = [0.842678] for Input of Length [3]\n",
            "--------------------------------------------------\n",
            "CPU Sum = [4.049982] for Input of Length [8]\n",
            "GPU Sum = [0.110907] for Input of Length [8]\n",
            "--------------------------------------------------\n",
            "CPU Sum = [3.773655] for Input of Length [10]\n",
            "GPU Sum = [0.190786] for Input of Length [10]\n",
            "--------------------------------------------------\n",
            "CPU Sum = [6.000062] for Input of Length [12]\n",
            "GPU Sum = [0.938075] for Input of Length [12]\n",
            "--------------------------------------------------\n",
            "CPU Sum = [3.633538] for Input of Length [8]\n",
            "GPU Sum = [0.845946] for Input of Length [8]\n",
            "--------------------------------------------------\n",
            "CPU Sum = [3.371860] for Input of Length [5]\n",
            "GPU Sum = [0.138688] for Input of Length [5]\n",
            "--------------------------------------------------\n",
            "CPU Sum = [5.550526] for Input of Length [12]\n",
            "GPU Sum = [0.479892] for Input of Length [12]\n",
            "--------------------------------------------------\n",
            "CPU Sum = [3.559027] for Input of Length [8]\n",
            "GPU Sum = [0.598280] for Input of Length [8]\n",
            "--------------------------------------------------\n",
            "CPU Sum = [1.106155] for Input of Length [4]\n",
            "GPU Sum = [0.029080] for Input of Length [4]\n",
            "--------------------------------------------------\n",
            "CPU Sum = [2.898772] for Input of Length [10]\n",
            "GPU Sum = [0.086353] for Input of Length [10]\n",
            "\n"
          ]
        }
      ]
    },
    {
      "cell_type": "markdown",
      "source": [
        "Did the results surprise you? Do you remember from class what went wrong?"
      ],
      "metadata": {
        "id": "9Q0NaCi1veXs"
      }
    },
    {
      "cell_type": "markdown",
      "source": [
        "Let's implement the fix from the lecture slides!"
      ],
      "metadata": {
        "id": "YI0-vpuovhSj"
      }
    },
    {
      "cell_type": "code",
      "source": [
        "# overwrite the old sum kernel!\n",
        "%%cuda_group_save -n sum2.h -g default2\n",
        "\n",
        "// vector sum wrapped in a function call\n",
        "__global__\n",
        "void vectorSum_kernel2(float *d_data, float *d_sum, const int c_dataLength){\n",
        "  for(int i = threadIdx.x; i < c_dataLength; i += blockDim.x){\n",
        "      atomicAdd(d_sum,d_data[i]);\n",
        "  }\n",
        "}"
      ],
      "metadata": {
        "id": "C1qYMNoMveqY"
      },
      "execution_count": null,
      "outputs": []
    },
    {
      "cell_type": "code",
      "source": [
        "%cuda_group_run -g default2"
      ],
      "metadata": {
        "colab": {
          "base_uri": "https://localhost:8080/"
        },
        "id": "2GOADeQLv6ra",
        "outputId": "b5babc88-7186-40f7-d511-78f5ded36e3c"
      },
      "execution_count": null,
      "outputs": [
        {
          "output_type": "stream",
          "name": "stdout",
          "text": [
            "--------------------------------------------------\n",
            "CPU Sum = [6.821296] for Input of Length [16]\n",
            "GPU Sum = [6.821296] for Input of Length [16]\n",
            "--------------------------------------------------\n",
            "CPU Sum = [5.863772] for Input of Length [11]\n",
            "GPU Sum = [5.863772] for Input of Length [11]\n",
            "--------------------------------------------------\n",
            "CPU Sum = [1.442321] for Input of Length [4]\n",
            "GPU Sum = [1.442321] for Input of Length [4]\n",
            "--------------------------------------------------\n",
            "CPU Sum = [2.199970] for Input of Length [5]\n",
            "GPU Sum = [2.199970] for Input of Length [5]\n",
            "--------------------------------------------------\n",
            "CPU Sum = [0.872175] for Input of Length [2]\n",
            "GPU Sum = [0.872175] for Input of Length [2]\n",
            "--------------------------------------------------\n",
            "CPU Sum = [2.078471] for Input of Length [7]\n",
            "GPU Sum = [2.078471] for Input of Length [7]\n",
            "--------------------------------------------------\n",
            "CPU Sum = [0.960726] for Input of Length [2]\n",
            "GPU Sum = [0.960726] for Input of Length [2]\n",
            "--------------------------------------------------\n",
            "CPU Sum = [8.379673] for Input of Length [15]\n",
            "GPU Sum = [8.379673] for Input of Length [15]\n",
            "--------------------------------------------------\n",
            "CPU Sum = [10.063160] for Input of Length [16]\n",
            "GPU Sum = [10.063160] for Input of Length [16]\n",
            "--------------------------------------------------\n",
            "CPU Sum = [8.143208] for Input of Length [12]\n",
            "GPU Sum = [8.143208] for Input of Length [12]\n",
            "\n"
          ]
        }
      ]
    }
  ]
}