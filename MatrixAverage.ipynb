{
  "nbformat": 4,
  "nbformat_minor": 0,
  "metadata": {
    "colab": {
      "provenance": [],
      "gpuType": "T4",
      "include_colab_link": true
    },
    "kernelspec": {
      "name": "python3",
      "display_name": "Python 3"
    },
    "language_info": {
      "name": "python"
    },
    "accelerator": "GPU"
  },
  "cells": [
    {
      "cell_type": "markdown",
      "metadata": {
        "id": "view-in-github",
        "colab_type": "text"
      },
      "source": [
        "<a href=\"https://colab.research.google.com/github/COMS-BC3159-F24/colabs/blob/main/MatrixAverage.ipynb\" target=\"_parent\"><img src=\"https://colab.research.google.com/assets/colab-badge.svg\" alt=\"Open In Colab\"/></a>"
      ]
    },
    {
      "cell_type": "markdown",
      "source": [
        "# Matrix Average\n",
        "We've provided a sample matrix $A$ as shown in lecture.  Run the two cells below to compute its average."
      ],
      "metadata": {
        "id": "dXRMMTwaYGxk"
      }
    },
    {
      "cell_type": "code",
      "execution_count": 1,
      "metadata": {
        "id": "QCdqDs6VXOT1"
      },
      "outputs": [],
      "source": [
        "A = [[0,  1,  2,  3],\n",
        "     [4,  5,  6,  7],\n",
        "     [8,  9,  10, 11],\n",
        "     [12, 13, 14, 15]]\n",
        "\n",
        "def printMatrix(matrix):\n",
        "    for row in matrix:\n",
        "        print(' '.join(f'{elem:5}' for elem in row))"
      ]
    },
    {
      "cell_type": "code",
      "source": [
        "def averageMatrix(matrix):\n",
        "    average = 0\n",
        "    sum = 0\n",
        "    count = 0\n",
        "    for row in matrix:\n",
        "        for elem in row:\n",
        "            sum += elem\n",
        "            count += 1\n",
        "    average = sum / count\n",
        "    print(f\"Average of matrix of size {len(matrix[0])}: {average}\")\n",
        "\n",
        "averageMatrix(A)"
      ],
      "metadata": {
        "colab": {
          "base_uri": "https://localhost:8080/"
        },
        "id": "S__OzYhtXoWj",
        "outputId": "11e39b45-d2df-4f4b-a519-d53bf65b3de2"
      },
      "execution_count": 2,
      "outputs": [
        {
          "output_type": "stream",
          "name": "stdout",
          "text": [
            "Average of matrix of size 4: 7.5\n"
          ]
        }
      ]
    },
    {
      "cell_type": "markdown",
      "source": [
        "---\n",
        "## Benchmark\n",
        "With this naïve implementation that leverages only vanilla Python (i.e., no third party libraries like Numpy, etc.), let's get a rough benchmark of how long it takes to average various sizes of square matrices."
      ],
      "metadata": {
        "id": "pTL1iVsmYegU"
      }
    },
    {
      "cell_type": "code",
      "source": [
        "import time\n",
        "import matplotlib.pyplot as plt\n",
        "\n",
        "def randSquareMatrix(size_n):\n",
        "    from random import randint\n",
        "    return [[randint(0, 5000) for _ in range(size_n)] for _ in range(size_n)]\n",
        "\n",
        "sizes = [2, 4, 8, 16, 32, 64, 128, 256, 512, 1024, 2048, 4096, 8192]\n",
        "durations = []\n",
        "for size in sizes:\n",
        "    matrix = randSquareMatrix(size)\n",
        "    start = time.time()\n",
        "    averageMatrix(matrix)\n",
        "    end = time.time()\n",
        "    durations.append(end - start)\n",
        "    print(f\"    Compute time of: {durations[-1]:.2E}\")\n",
        "\n",
        "plt.plot(sizes, durations)"
      ],
      "metadata": {
        "colab": {
          "base_uri": "https://localhost:8080/",
          "height": 902
        },
        "id": "QguHd-S6YBOw",
        "outputId": "9a5b412c-4d4e-48f8-ac5a-4b7170db3356"
      },
      "execution_count": 3,
      "outputs": [
        {
          "output_type": "stream",
          "name": "stdout",
          "text": [
            "Average of matrix of size 2: 1494.25\n",
            "    Compute time of: 2.24E-04\n",
            "Average of matrix of size 4: 2829.1875\n",
            "    Compute time of: 2.17E-05\n",
            "Average of matrix of size 8: 2661.0\n",
            "    Compute time of: 3.19E-05\n",
            "Average of matrix of size 16: 2777.63671875\n",
            "    Compute time of: 3.70E-05\n",
            "Average of matrix of size 32: 2522.07421875\n",
            "    Compute time of: 1.07E-04\n",
            "Average of matrix of size 64: 2470.932373046875\n",
            "    Compute time of: 3.64E-04\n",
            "Average of matrix of size 128: 2493.5712280273438\n",
            "    Compute time of: 1.44E-03\n",
            "Average of matrix of size 256: 2497.1226501464844\n",
            "    Compute time of: 5.30E-03\n",
            "Average of matrix of size 512: 2502.1524085998535\n",
            "    Compute time of: 2.15E-02\n",
            "Average of matrix of size 1024: 2499.4511251449585\n",
            "    Compute time of: 1.94E-01\n",
            "Average of matrix of size 2048: 2499.181416988373\n",
            "    Compute time of: 1.38E+00\n",
            "Average of matrix of size 4096: 2500.084789931774\n",
            "    Compute time of: 1.49E+00\n",
            "Average of matrix of size 8192: 2499.96123573184\n",
            "    Compute time of: 6.72E+00\n"
          ]
        },
        {
          "output_type": "execute_result",
          "data": {
            "text/plain": [
              "[<matplotlib.lines.Line2D at 0x7e6c0c114700>]"
            ]
          },
          "metadata": {},
          "execution_count": 3
        },
        {
          "output_type": "display_data",
          "data": {
            "text/plain": [
              "<Figure size 640x480 with 1 Axes>"
            ],
            "image/png": "[encoded data removed]"
          },
          "metadata": {}
        }
      ]
    },
    {
      "cell_type": "markdown",
      "source": [
        "**What did you notice about the averages? What about the times? Anything surprise you?**"
      ],
      "metadata": {
        "id": "zW2X_zHarijJ"
      }
    },
    {
      "cell_type": "markdown",
      "source": [
        "---\n",
        "## Parallel\n",
        "\n",
        "Now lets try it in parallel with the ```cupy``` library! Make sure you have selected a GPU runtime! Now run the code block below. **How do the resuts compare? Is it what you expect?**"
      ],
      "metadata": {
        "id": "X0_DuWUMwzZW"
      }
    },
    {
      "cell_type": "code",
      "source": [
        "import cupy as cp\n",
        "\n",
        "parallel_durations = []\n",
        "for size in sizes:\n",
        "    matrix = randSquareMatrix(size)\n",
        "    start = time.time()\n",
        "    average = cp.average(matrix)\n",
        "    end = time.time()\n",
        "    parallel_durations.append(end - start)\n",
        "    print(f\"Average of matrix of size {size}: {average}\")\n",
        "    print(f\"    Compute time of: {parallel_durations[-1]:.2E}\")\n",
        "\n",
        "plt.plot(sizes, durations, label = \"Serial\")\n",
        "plt.plot(sizes, parallel_durations, label = \"Parallel\")\n",
        "plt.legend()\n",
        "plt.show()"
      ],
      "metadata": {
        "colab": {
          "base_uri": "https://localhost:8080/",
          "height": 902
        },
        "id": "ELH8hHjGwRMP",
        "outputId": "aa780b86-f15e-4580-8664-e65f3bdf6c89"
      },
      "execution_count": 5,
      "outputs": [
        {
          "output_type": "stream",
          "name": "stdout",
          "text": [
            "Average of matrix of size 2: 3120.0\n",
            "    Compute time of: 1.93E-03\n",
            "Average of matrix of size 4: 2851.9375\n",
            "    Compute time of: 3.51E-04\n",
            "Average of matrix of size 8: 2521.234375\n",
            "    Compute time of: 3.13E-04\n",
            "Average of matrix of size 16: 2615.01953125\n",
            "    Compute time of: 5.53E-04\n",
            "Average of matrix of size 32: 2386.33984375\n",
            "    Compute time of: 2.73E-04\n",
            "Average of matrix of size 64: 2488.943603515625\n",
            "    Compute time of: 1.17E-03\n",
            "Average of matrix of size 128: 2507.1406860351562\n",
            "    Compute time of: 1.09E-03\n",
            "Average of matrix of size 256: 2492.118133544922\n",
            "    Compute time of: 3.70E-03\n",
            "Average of matrix of size 512: 2498.406017303467\n",
            "    Compute time of: 4.02E-02\n",
            "Average of matrix of size 1024: 2502.4690437316895\n",
            "    Compute time of: 4.91E-02\n",
            "Average of matrix of size 2048: 2499.7511422634125\n",
            "    Compute time of: 1.97E-01\n",
            "Average of matrix of size 4096: 2500.1687037944794\n",
            "    Compute time of: 9.92E-01\n",
            "Average of matrix of size 8192: 2499.8296815752983\n",
            "    Compute time of: 3.65E+00\n"
          ]
        },
        {
          "output_type": "execute_result",
          "data": {
            "text/plain": [
              "[<matplotlib.lines.Line2D at 0x7e6bb6b09450>]"
            ]
          },
          "metadata": {},
          "execution_count": 5
        },
        {
          "output_type": "display_data",
          "data": {
            "text/plain": [
              "<Figure size 640x480 with 1 Axes>"
            ],
            "image/png": "[encoded data removed]"
          },
          "metadata": {}
        }
      ]
    },
    {
      "cell_type": "code",
      "source": [],
      "metadata": {
        "id": "qPj-f3vV3V9H"
      },
      "execution_count": null,
      "outputs": []
    }
  ]
}